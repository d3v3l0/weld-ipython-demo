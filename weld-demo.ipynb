{
 "cells": [
  {
   "cell_type": "code",
   "execution_count": 9,
   "metadata": {
    "collapsed": true
   },
   "outputs": [],
   "source": [
    "import numpy as np\n",
    "import time"
   ]
  },
  {
   "cell_type": "code",
   "execution_count": 6,
   "metadata": {
    "collapsed": true
   },
   "outputs": [],
   "source": [
    "# Global constants\n",
    "SIZE = (2 << 28)\n",
    "ITERATIONS = 40"
   ]
  },
  {
   "cell_type": "code",
   "execution_count": 164,
   "metadata": {
    "collapsed": true
   },
   "outputs": [],
   "source": [
    "def run_numpy_addition(a):\n",
    "    for i in xrange(ITERATIONS):\n",
    "        a += i\n",
    "    print \"Result:\", a.sum()"
   ]
  },
  {
   "cell_type": "code",
   "execution_count": 10,
   "metadata": {
    "collapsed": false
   },
   "outputs": [
    {
     "name": "stdout",
     "output_type": "stream",
     "text": [
      "Result: 418759311360\n"
     ]
    }
   ],
   "source": [
    "a = np.zeros((SIZE), dtype='int32')\n",
    "run_numpy_addition(a)"
   ]
  },
  {
   "cell_type": "code",
   "execution_count": 13,
   "metadata": {
    "collapsed": true
   },
   "outputs": [],
   "source": [
    "# wow thats really slow can we make it better? here comes weld"
   ]
  },
  {
   "cell_type": "code",
   "execution_count": 26,
   "metadata": {
    "collapsed": true
   },
   "outputs": [],
   "source": [
    "from weld.weldobject import *\n",
    "from weld.types import *"
   ]
  },
  {
   "cell_type": "code",
   "execution_count": 27,
   "metadata": {
    "collapsed": true
   },
   "outputs": [],
   "source": [
    "# We'll make a Weld enabled NumPy implementation. Add some more text here"
   ]
  },
  {
   "cell_type": "code",
   "execution_count": 149,
   "metadata": {
    "collapsed": false
   },
   "outputs": [],
   "source": [
    "class HelloWeldVector(object):\n",
    "    pass"
   ]
  },
  {
   "cell_type": "code",
   "execution_count": 150,
   "metadata": {
    "collapsed": true
   },
   "outputs": [],
   "source": [
    "# Wow some text"
   ]
  },
  {
   "cell_type": "code",
   "execution_count": 151,
   "metadata": {
    "collapsed": true
   },
   "outputs": [],
   "source": [
    "def __init__(self, vector):\n",
    "    self.vector = vector\n",
    "    self.weldobj = WeldObject(_encoder, _decoder)\n",
    "    name = self.weldobj.update(vector, WeldVec(WeldInt()))\n",
    "    self.weldobj.weld_code = name\n",
    "    self.cached = None"
   ]
  },
  {
   "cell_type": "code",
   "execution_count": 152,
   "metadata": {
    "collapsed": true
   },
   "outputs": [],
   "source": [
    "# wao moar text"
   ]
  },
  {
   "cell_type": "code",
   "execution_count": 153,
   "metadata": {
    "collapsed": true
   },
   "outputs": [],
   "source": [
    "def add(self, number):\n",
    "    self.cached = None\n",
    "    template = \"map({0}, |e| e + {1})\"\n",
    "    self.weldobj.weld_code = template.format(\n",
    "        self.weldobj.weld_code, str(number))\n",
    "    return self\n",
    "\n",
    "def __iadd__(self, other):\n",
    "    return self.add(other)"
   ]
  },
  {
   "cell_type": "code",
   "execution_count": 154,
   "metadata": {
    "collapsed": true
   },
   "outputs": [],
   "source": [
    "# wow!"
   ]
  },
  {
   "cell_type": "code",
   "execution_count": 155,
   "metadata": {
    "collapsed": true
   },
   "outputs": [],
   "source": [
    "def vector_sum(self):\n",
    "    self.cached = None\n",
    "    template = \"result(for({0}, merger[i64,+], |b,i,e| merge(b, i64(e))))\"\n",
    "    prev_code = self.weldobj.weld_code\n",
    "    self.weldobj.weld_code = template.format(self.weldobj.weld_code)\n",
    "    self.weldobj.decoder = ScalarDecoder()\n",
    "    result = self.weldobj.evaluate(WeldLong(), verbose=False)\n",
    "    self.weldobj.decoder = _decoder\n",
    "    self.weldobj.weld_code = prev_code\n",
    "    return result"
   ]
  },
  {
   "cell_type": "code",
   "execution_count": 156,
   "metadata": {
    "collapsed": true
   },
   "outputs": [],
   "source": [
    "# more text"
   ]
  },
  {
   "cell_type": "code",
   "execution_count": 157,
   "metadata": {
    "collapsed": false
   },
   "outputs": [],
   "source": [
    "setattr(HelloWeldVector, '__init__', classmethod(__init__))\n",
    "setattr(HelloWeldVector, 'add', add)\n",
    "setattr(HelloWeldVector, '__iadd__', __iadd__)\n",
    "setattr(HelloWeldVector, 'sum', sum)"
   ]
  },
  {
   "cell_type": "code",
   "execution_count": 158,
   "metadata": {
    "collapsed": false,
    "scrolled": false
   },
   "outputs": [],
   "source": [
    "# Wait...how do we KNOW HOW TO PASS NUMPY INTO WELD?????\n",
    "# INEcNODERLKJADS!!!"
   ]
  },
  {
   "cell_type": "code",
   "execution_count": 159,
   "metadata": {
    "collapsed": true
   },
   "outputs": [],
   "source": [
    "from weld.encoders import NumpyArrayEncoder, NumpyArrayDecoder, ScalarDecoder\n",
    "\n",
    "_encoder = NumpyArrayEncoder()\n",
    "_decoder = NumpyArrayDecoder()"
   ]
  },
  {
   "cell_type": "code",
   "execution_count": 160,
   "metadata": {
    "collapsed": true
   },
   "outputs": [],
   "source": [
    "# Now lets try running it again"
   ]
  },
  {
   "cell_type": "code",
   "execution_count": 166,
   "metadata": {
    "collapsed": true
   },
   "outputs": [],
   "source": [
    "def run_numpy_addition_with_weld(a):\n",
    "    a = HelloWeldVector(a)\n",
    "    for i in xrange(ITERATIONS):\n",
    "        a += i\n",
    "        \n",
    "    print \"Result:\", a.sum()"
   ]
  },
  {
   "cell_type": "code",
   "execution_count": 168,
   "metadata": {
    "collapsed": false
   },
   "outputs": [],
   "source": [
    "def compare_against_numpy():\n",
    "    a = np.zeros((SIZE), dtype='int32')\n",
    "\n",
    "    start = time.time()\n",
    "    run_numpy_addition(a)\n",
    "    end = time.time()\n",
    "\n",
    "    numpy_time = end - start\n",
    "\n",
    "    # Because caches are funny things\n",
    "    a = np.zeros((SIZE), dtype='int32')\n",
    "\n",
    "    start = time.time()\n",
    "    run_numpy_addition_with_weld(a)\n",
    "    end = time.time()\n",
    "\n",
    "    run_time = end - start\n",
    "\n",
    "    print \"Speedup:\", numpy_time / run_time"
   ]
  },
  {
   "cell_type": "code",
   "execution_count": 171,
   "metadata": {
    "collapsed": false
   },
   "outputs": [
    {
     "name": "stdout",
     "output_type": "stream",
     "text": [
      "Result: 418759311360\n",
      "Result: 418759311360\n",
      "Speedup: 7.4842164901\n"
     ]
    }
   ],
   "source": [
    "import os\n",
    "os.environ[\"WELD_NUM_THREADS\"] = \"1\"\n",
    "\n",
    "compare_against_numpy()"
   ]
  },
  {
   "cell_type": "code",
   "execution_count": 173,
   "metadata": {
    "collapsed": false
   },
   "outputs": [
    {
     "name": "stdout",
     "output_type": "stream",
     "text": [
      "Result: 418759311360\n",
      "Result: 418759311360\n",
      "Speedup: 9.60425773098\n"
     ]
    }
   ],
   "source": [
    "import os\n",
    "os.environ[\"WELD_NUM_THREADS\"] = \"4\"\n",
    "\n",
    "compare_against_numpy()"
   ]
  },
  {
   "cell_type": "code",
   "execution_count": null,
   "metadata": {
    "collapsed": true
   },
   "outputs": [],
   "source": [
    "# Write some more about \"real workloads\" and Pandas and Grizzly"
   ]
  },
  {
   "cell_type": "code",
   "execution_count": 11,
   "metadata": {
    "collapsed": false
   },
   "outputs": [],
   "source": [
    "import pandas as pd\n",
    "import grizzly.grizzly as gr"
   ]
  },
  {
   "cell_type": "code",
   "execution_count": 12,
   "metadata": {
    "collapsed": false
   },
   "outputs": [],
   "source": [
    "def get_data_cleaning_data():\n",
    "    na_values = ['NO CLUE', 'N/A', '0']\n",
    "    requests = pd.read_csv('data/311-service-requests.csv', na_values=na_values, dtype={'Incident Zip': str})\n",
    "    return requests"
   ]
  },
  {
   "cell_type": "code",
   "execution_count": 13,
   "metadata": {
    "collapsed": false
   },
   "outputs": [],
   "source": [
    "def run_data_cleaning_pandas(requests):\n",
    "    requests['Incident Zip'] = requests['Incident Zip'].str.slice(0, 5)\n",
    "    \n",
    "    # Fix requests with 00000 zipcodes\n",
    "    zero_zips = requests['Incident Zip'] == '00000'\n",
    "    requests['Incident Zip'][zero_zips] = np.nan\n",
    "    \n",
    "    # Display unique zip codes.\n",
    "    print 'Result:', requests['Incident Zip'].unique()"
   ]
  },
  {
   "cell_type": "code",
   "execution_count": 14,
   "metadata": {
    "collapsed": false
   },
   "outputs": [],
   "source": [
    "def run_data_cleaning_grizzly(requests):\n",
    "    requests = gr.DataFrameWeld(requests)\n",
    "    requests['Incident Zip'] = requests['Incident Zip'].str.slice(0, 5)\n",
    "    \n",
    "    # Fix requests with 00000 zipcodes\n",
    "    zero_zips = requests['Incident Zip'] == '00000'\n",
    "    requests['Incident Zip'][zero_zips] = 'nan'\n",
    "    \n",
    "    # Display unique zip codes.\n",
    "    print 'Result:', requests['Incident Zip'].unique().evaluate(verbose=False)"
   ]
  },
  {
   "cell_type": "code",
   "execution_count": 7,
   "metadata": {
    "collapsed": false
   },
   "outputs": [],
   "source": [
    "requests_orig = get_data_cleaning_data()"
   ]
  },
  {
   "cell_type": "code",
   "execution_count": 15,
   "metadata": {
    "collapsed": false
   },
   "outputs": [
    {
     "name": "stdout",
     "output_type": "stream",
     "text": [
      "Result: ['11432' '11378' '10032' '10023' '10027' '11372' '11419' '11417' '10011'\n",
      " '11225' '11218' '10003' '10029' '10466' '11219' '10025' '10310' '11236'\n",
      " '10033' '11216' '10016' '10305' '10312' '10026' '10309' '10036' '11433'\n",
      " '11235' '11213' '11379' '11101' '10014' '11231' '11234' '10457' '10459'\n",
      " '10465' '11207' '10002' '10034' '11233' '10453' '10456' '10469' '11374'\n",
      " '11221' '11421' '11215' '10007' '10019' '11205' '11418' '11369' '11249'\n",
      " '10005' '10009' '11211' '11412' '10458' '11229' '10065' '10030' '11222'\n",
      " '10024' '10013' '11420' '11365' '10012' '11214' '11212' '10022' '11232'\n",
      " '11040' '11226' '10281' '11102' '11208' '10001' '10472' '11414' '11223'\n",
      " '10040' '11220' '11373' '11203' '11691' '11356' '10017' '10452' '10280'\n",
      " '11217' '10031' '11201' '11358' '10128' '11423' '10039' '10010' '11209'\n",
      " '10021' '10037' '11413' '11375' '11238' '10473' '11103' '11354' '11361'\n",
      " '11106' '11385' '10463' '10467' '11204' '11237' '11377' '11364' '11434'\n",
      " '11435' '11210' '11228' '11368' '11694' '10464' '11415' '10314' '10301'\n",
      " '10018' '10038' '11105' '11230' '10468' '11104' '10471' '11416' '10075'\n",
      " '11422' '11355' '10028' '10462' '10306' '10461' '11224' '11429' '10035'\n",
      " '11366' '11362' '11206' '10460' '10304' '11360' '11411' '10455' '10475'\n",
      " '10069' '10303' '10308' '10302' '11357' '10470' '11367' '11370' '10454'\n",
      " '10451' '11436' '11426' '10153' '11004' '11428' '11427' '11001' '11363'\n",
      " '10004' '10474' '11430' '10000' '10307' '11239' '10119' '10006' '10048'\n",
      " '11697' '11692' '11693' '10573' '00083' nan '11559' '10020' '77056'\n",
      " '11776' '70711' '10282' '11109' '10044' '02061' '77092' '14225' '55164'\n",
      " '19711' '07306' '90010' '11747' '23541' '11788' '07604' '10112' '11563'\n",
      " '11580' '07087' '11042' '07093' '11501' '92123' '11575' '07109' '11797'\n",
      " '10803' '11716' '11722' '11549' '10162' '23502' '11518' '07020' '08807'\n",
      " '11577' '07114' '11003' '07201' '61702' '10103' '29616' '35209' '11520'\n",
      " '11735' '10129' '11005' '41042' '11590' '06901' '07208' '11530' '13221'\n",
      " '10954' '11111' '10107']\n",
      "Total time taken: 124.218\n"
     ]
    }
   ],
   "source": [
    "requests = requests_orig.copy()\n",
    "\n",
    "start = time.time()\n",
    "run_data_cleaning_pandas(requests)\n",
    "end = time.time()\n",
    "print \"Total time taken: %.3f\" % (end - start)"
   ]
  },
  {
   "cell_type": "code",
   "execution_count": null,
   "metadata": {
    "collapsed": false
   },
   "outputs": [],
   "source": [
    "import os\n",
    "os.environ[\"WELD_NUM_THREADS\"] = \"1\"\n",
    "\n",
    "requests = requests_orig.copy()\n",
    "\n",
    "start = time.time()\n",
    "run_data_cleaning_grizzly(requests)\n",
    "end = time.time()\n",
    "print \"Total time taken: %.3f\" % (end - start)"
   ]
  },
  {
   "cell_type": "code",
   "execution_count": null,
   "metadata": {
    "collapsed": false
   },
   "outputs": [],
   "source": [
    "import os\n",
    "os.environ[\"WELD_NUM_THREADS\"] = \"4\"\n",
    "\n",
    "start = time.time()\n",
    "run_data_cleaning_grizzly(requests)\n",
    "end = time.time()\n",
    "print \"Total time taken: %.3f\" % (end - start)"
   ]
  },
  {
   "cell_type": "code",
   "execution_count": null,
   "metadata": {
    "collapsed": true
   },
   "outputs": [],
   "source": []
  }
 ],
 "metadata": {
  "kernelspec": {
   "display_name": "Python 2",
   "language": "python",
   "name": "python2"
  },
  "language_info": {
   "codemirror_mode": {
    "name": "ipython",
    "version": 2
   },
   "file_extension": ".py",
   "mimetype": "text/x-python",
   "name": "python",
   "nbconvert_exporter": "python",
   "pygments_lexer": "ipython2",
   "version": "2.7.13"
  }
 },
 "nbformat": 4,
 "nbformat_minor": 2
}
